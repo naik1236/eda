{
 "cells": [
  {
   "cell_type": "code",
   "execution_count": 2,
   "id": "e40ae9b0-ed7c-4f2b-8c19-d1d3bd687fef",
   "metadata": {},
   "outputs": [
    {
     "data": {
      "text/plain": [
       "'1.22.2'"
      ]
     },
     "execution_count": 2,
     "metadata": {},
     "output_type": "execute_result"
    }
   ],
   "source": [
    "import numpy\n",
    "numpy.__version__\n"
   ]
  },
  {
   "cell_type": "code",
   "execution_count": 4,
   "id": "76c7d57e-99c8-46bd-a64b-b69e7cf05526",
   "metadata": {},
   "outputs": [],
   "source": [
    "import numpy as np\n",
    "x = [1, 2 ,'3',4.3, True]"
   ]
  },
  {
   "cell_type": "code",
   "execution_count": 6,
   "id": "4acb6d3c-e48b-46ad-b024-6348e92bb839",
   "metadata": {},
   "outputs": [
    {
     "name": "stdout",
     "output_type": "stream",
     "text": [
      "['1' '2' '3.4' '4' '5']\n"
     ]
    }
   ],
   "source": [
    "x = [1,2, 3.4, 4, '5']\n",
    "y = np.array(x)\n",
    "print(y)"
   ]
  },
  {
   "cell_type": "code",
   "execution_count": 7,
   "id": "371b8f48-129d-4476-8cca-c0e67e9896ec",
   "metadata": {},
   "outputs": [],
   "source": [
    "import numpy as np\n",
    "import time \n"
   ]
  },
  {
   "cell_type": "code",
   "execution_count": 31,
   "id": "644d81f7-d79a-43a5-8ca9-43f6e6f05825",
   "metadata": {},
   "outputs": [
    {
     "name": "stdout",
     "output_type": "stream",
     "text": [
      "time consumed is 8.56526255607605\n"
     ]
    }
   ],
   "source": [
    "#time complexity\n",
    "start = time.time()\n",
    "for i,j in zip(list(range(10000)),list(range(10000))):\n",
    "               z = i ** j\n",
    "end = time.time()\n",
    "print(f'time consumed is {end -start}')         \n"
   ]
  },
  {
   "cell_type": "code",
   "execution_count": 32,
   "id": "3ce3269d-2a3a-4117-a688-034b278d15c0",
   "metadata": {},
   "outputs": [
    {
     "name": "stdout",
     "output_type": "stream",
     "text": [
      "time consumed is 0.018309354782104492\n"
     ]
    }
   ],
   "source": [
    "start = time.time()\n",
    "for i,j in zip(np.array(list(range(10000))),np.array (list(range(10000)))):\n",
    "               z = i ** j\n",
    "end = time.time()\n",
    "print(f'time consumed is {end -start}') "
   ]
  },
  {
   "cell_type": "code",
   "execution_count": 33,
   "id": "67c686a6-f14c-44bb-bfc5-50960935722d",
   "metadata": {},
   "outputs": [
    {
     "data": {
      "text/plain": [
       "array([ 2,  4,  6,  8, 10, 12])"
      ]
     },
     "execution_count": 33,
     "metadata": {},
     "output_type": "execute_result"
    }
   ],
   "source": [
    "x = np.array ([1,2,3,4,5,6])\n",
    "x *2 "
   ]
  },
  {
   "cell_type": "code",
   "execution_count": 34,
   "id": "37f10d58-40d2-4410-8802-7dd045ed346f",
   "metadata": {},
   "outputs": [
    {
     "data": {
      "text/plain": [
       "[1, 2, 3, 4, 5, 1, 2, 3, 4, 5]"
      ]
     },
     "execution_count": 34,
     "metadata": {},
     "output_type": "execute_result"
    }
   ],
   "source": [
    "x = [1,2,3,4,5]\n",
    "x*2"
   ]
  },
  {
   "cell_type": "code",
   "execution_count": 35,
   "id": "80d6ce80-8742-4c7c-87c1-e92c85c60424",
   "metadata": {},
   "outputs": [
    {
     "data": {
      "text/plain": [
       "array([ 3,  8, 20])"
      ]
     },
     "execution_count": 35,
     "metadata": {},
     "output_type": "execute_result"
    }
   ],
   "source": [
    "np.array([1,2,4]) * np .array ([3,4,5])"
   ]
  },
  {
   "cell_type": "code",
   "execution_count": 44,
   "id": "7745c7f7-5090-42df-bded-86dec9ac4394",
   "metadata": {},
   "outputs": [
    {
     "name": "stdout",
     "output_type": "stream",
     "text": [
      "(5,)\n",
      "1\n"
     ]
    }
   ],
   "source": [
    "x = np.array([1,2,3,4,5])\n",
    "print(x.shape) # dimention known by shape.\n",
    "print(x.ndim) # give me the dimension of tensor"
   ]
  },
  {
   "cell_type": "code",
   "execution_count": 52,
   "id": "5e3e67df-f1e6-482d-8834-8ccd91fafd8d",
   "metadata": {},
   "outputs": [
    {
     "name": "stdout",
     "output_type": "stream",
     "text": [
      "[1 2 3 4 5 6 7 8 9]\n",
      "[[1 2 3]\n",
      " [4 5 6]\n",
      " [7 8 9]]\n"
     ]
    }
   ],
   "source": [
    "x = np.arange(1,10) #\n",
    "y = x.reshape(3,3) #\n",
    "print (x)\n",
    "print (y)"
   ]
  },
  {
   "cell_type": "code",
   "execution_count": 53,
   "id": "e1a6e688-1b15-4112-980a-aeb610de05b5",
   "metadata": {},
   "outputs": [
    {
     "data": {
      "text/plain": [
       "array([ 1.97691348,  0.61409423, -0.52664337, ...,  0.33807609,\n",
       "        0.99878841,  0.4842312 ])"
      ]
     },
     "execution_count": 53,
     "metadata": {},
     "output_type": "execute_result"
    }
   ],
   "source": [
    "np.random.normal(0,1, 10000)# mean =0,sd = 1, samples =10000"
   ]
  },
  {
   "cell_type": "code",
   "execution_count": 1,
   "id": "b1320901-e255-4caa-9378-5643c31e3056",
   "metadata": {},
   "outputs": [],
   "source": [
    "#slicing in num py"
   ]
  },
  {
   "cell_type": "code",
   "execution_count": 3,
   "id": "c0b25fef-e9b8-45c7-80c5-cb9917ef3943",
   "metadata": {},
   "outputs": [
    {
     "data": {
      "text/plain": [
       "array([[0.42976316, 0.46058484, 0.47324188, 0.17433845, 0.6781373 ],\n",
       "       [0.43973312, 0.88469431, 0.70443817, 0.65117628, 0.81860339],\n",
       "       [0.19729652, 0.30939308, 0.87425979, 0.47518139, 0.4237785 ],\n",
       "       [0.33078485, 0.64974976, 0.30972791, 0.21363898, 0.54217343]])"
      ]
     },
     "execution_count": 3,
     "metadata": {},
     "output_type": "execute_result"
    }
   ],
   "source": [
    "import numpy as np \n",
    "x = np.random.rand(4,5)\n",
    "x"
   ]
  },
  {
   "cell_type": "code",
   "execution_count": 4,
   "id": "ef97e8c0-2eda-4eea-8814-507bfe300021",
   "metadata": {},
   "outputs": [
    {
     "data": {
      "text/plain": [
       "array([[0.47518139, 0.4237785 ],\n",
       "       [0.21363898, 0.54217343]])"
      ]
     },
     "execution_count": 4,
     "metadata": {},
     "output_type": "execute_result"
    }
   ],
   "source": [
    "x[2:,3:]"
   ]
  },
  {
   "cell_type": "code",
   "execution_count": 6,
   "id": "d9750eec-b8ff-4cf8-a9d7-7a4d36684216",
   "metadata": {},
   "outputs": [
    {
     "data": {
      "text/plain": [
       "array([[[[0.37454012, 0.95071431],\n",
       "         [0.73199394, 0.59865848],\n",
       "         [0.15601864, 0.15599452]],\n",
       "\n",
       "        [[0.05808361, 0.86617615],\n",
       "         [0.60111501, 0.70807258],\n",
       "         [0.02058449, 0.96990985]],\n",
       "\n",
       "        [[0.83244264, 0.21233911],\n",
       "         [0.18182497, 0.18340451],\n",
       "         [0.30424224, 0.52475643]],\n",
       "\n",
       "        [[0.43194502, 0.29122914],\n",
       "         [0.61185289, 0.13949386],\n",
       "         [0.29214465, 0.36636184]]],\n",
       "\n",
       "\n",
       "       [[[0.45606998, 0.78517596],\n",
       "         [0.19967378, 0.51423444],\n",
       "         [0.59241457, 0.04645041]],\n",
       "\n",
       "        [[0.60754485, 0.17052412],\n",
       "         [0.06505159, 0.94888554],\n",
       "         [0.96563203, 0.80839735]],\n",
       "\n",
       "        [[0.30461377, 0.09767211],\n",
       "         [0.68423303, 0.44015249],\n",
       "         [0.12203823, 0.49517691]],\n",
       "\n",
       "        [[0.03438852, 0.9093204 ],\n",
       "         [0.25877998, 0.66252228],\n",
       "         [0.31171108, 0.52006802]]]])"
      ]
     },
     "execution_count": 6,
     "metadata": {},
     "output_type": "execute_result"
    }
   ],
   "source": [
    "import numpy as np \n",
    "np.random.seed(42)\n",
    "x = np.random.rand(2,4,3,2)\n",
    "x"
   ]
  },
  {
   "cell_type": "code",
   "execution_count": 9,
   "id": "97c987f8-4063-458d-a74f-40d2303a00ce",
   "metadata": {},
   "outputs": [
    {
     "data": {
      "text/plain": [
       "array([0.21233911, 0.18340451, 0.52475643])"
      ]
     },
     "execution_count": 9,
     "metadata": {},
     "output_type": "execute_result"
    }
   ],
   "source": [
    "x[0,2,:,1]"
   ]
  },
  {
   "cell_type": "code",
   "execution_count": 68,
   "id": "d6c02648-db57-4f8e-814d-ea58f9ae9dff",
   "metadata": {},
   "outputs": [
    {
     "data": {
      "text/plain": [
       "array([[[[18.72589366, 19.25061017, 22.6388238 ],\n",
       "         [24.16611939, 13.36730492, 18.19054514],\n",
       "         [19.65205089, 22.42657998, 16.13666429]],\n",
       "\n",
       "        [[19.55389412, 20.14991817, 16.47764948],\n",
       "         [16.35842425, 20.49372889, 19.34827427],\n",
       "         [22.5023876 , 14.7337064 , 18.24659236]]],\n",
       "\n",
       "\n",
       "       [[[18.85391974, 24.06931954, 15.29793113],\n",
       "         [21.17326003, 21.26377754, 28.23198621],\n",
       "         [14.96455318, 16.71383341, 15.31322159]],\n",
       "\n",
       "        [[11.65110414, 28.82343467, 13.79249385],\n",
       "         [15.91847295, 26.57883254, 11.23446477],\n",
       "         [23.78175785, 12.93487827, 26.23347368]]],\n",
       "\n",
       "\n",
       "       [[[ 9.15061156, 11.23265292, 17.27538883],\n",
       "         [24.85911345, 19.84520875, 18.32142464],\n",
       "         [26.73022104, 30.77619769, 23.36128642]],\n",
       "\n",
       "        [[16.88572748, 17.90928483, 13.5577631 ],\n",
       "         [20.50408711, 11.85203507, 22.75931828],\n",
       "         [30.02787023, 23.5879579 , 17.6542614 ]]],\n",
       "\n",
       "\n",
       "       [[[22.63468706, 28.10266723, 27.85247318],\n",
       "         [14.98121054, 22.55148195, 19.20949255],\n",
       "         [24.03296624, 21.91806977,  8.15139295]],\n",
       "\n",
       "        [[18.25993457, 20.99279181, 12.82817516],\n",
       "         [22.90511005, 12.37992379, 16.00780476],\n",
       "         [26.7065596 , 15.58111106, 22.8698348 ]]]])"
      ]
     },
     "execution_count": 68,
     "metadata": {},
     "output_type": "execute_result"
    }
   ],
   "source": [
    "Y = np.random.normal(20,5,(4,2,3,3))\n",
    "Y"
   ]
  },
  {
   "cell_type": "code",
   "execution_count": 21,
   "id": "0f71c688-ed25-4924-b18f-eedb29a044a6",
   "metadata": {},
   "outputs": [
    {
     "data": {
      "text/plain": [
       "array([[[[85, 33],\n",
       "         [ 7, 39]]],\n",
       "\n",
       "\n",
       "       [[[82, 41],\n",
       "         [40,  5]]],\n",
       "\n",
       "\n",
       "       [[[51, 25],\n",
       "         [63, 97]]],\n",
       "\n",
       "\n",
       "       [[[58, 55],\n",
       "         [58, 69]]],\n",
       "\n",
       "\n",
       "       [[[32, 52],\n",
       "         [21, 20]]]])"
      ]
     },
     "execution_count": 21,
     "metadata": {},
     "output_type": "execute_result"
    }
   ],
   "source": [
    "X= np.random.randint(0,100,(5,1,2,2))\n",
    "X"
   ]
  },
  {
   "cell_type": "code",
   "execution_count": 39,
   "id": "6ee641cd-11bd-4298-bfc2-991758329f82",
   "metadata": {},
   "outputs": [
    {
     "data": {
      "text/plain": [
       "array([[51, 25]])"
      ]
     },
     "execution_count": 39,
     "metadata": {},
     "output_type": "execute_result"
    }
   ],
   "source": [
    "X[2,:,0,:]"
   ]
  },
  {
   "cell_type": "code",
   "execution_count": 41,
   "id": "f965aff0-4d92-4682-abef-da8fb54f8859",
   "metadata": {},
   "outputs": [
    {
     "data": {
      "text/plain": [
       "array([[63, 97]])"
      ]
     },
     "execution_count": 41,
     "metadata": {},
     "output_type": "execute_result"
    }
   ],
   "source": [
    "X[3,:,1,:]\n"
   ]
  },
  {
   "cell_type": "code",
   "execution_count": 42,
   "id": "24fa4c3a-091b-4f01-910f-cff94925629d",
   "metadata": {},
   "outputs": [
    {
     "data": {
      "text/plain": [
       "array([[63, 97]])"
      ]
     },
     "execution_count": 42,
     "metadata": {},
     "output_type": "execute_result"
    }
   ],
   "source": [
    "X[2,:,1,:]"
   ]
  },
  {
   "cell_type": "code",
   "execution_count": 43,
   "id": "8fb9af97-3855-44b2-85c9-c321141895c6",
   "metadata": {},
   "outputs": [
    {
     "data": {
      "text/plain": [
       "array([[32, 52]])"
      ]
     },
     "execution_count": 43,
     "metadata": {},
     "output_type": "execute_result"
    }
   ],
   "source": [
    "X[4,:,0,:]"
   ]
  },
  {
   "cell_type": "code",
   "execution_count": 47,
   "id": "c87e80e8-13a5-4893-ad17-2821a76ef80e",
   "metadata": {},
   "outputs": [
    {
     "data": {
      "text/plain": [
       "array([[1],\n",
       "       [2],\n",
       "       [3],\n",
       "       [4],\n",
       "       [5],\n",
       "       [6]])"
      ]
     },
     "execution_count": 47,
     "metadata": {},
     "output_type": "execute_result"
    }
   ],
   "source": [
    "x =np.array((1,2,3,4,5,6))\n",
    "x\n",
    "x.reshape(6,1)"
   ]
  },
  {
   "cell_type": "code",
   "execution_count": 48,
   "id": "59abd409-9dd5-460c-b28d-869671a0cd06",
   "metadata": {},
   "outputs": [
    {
     "data": {
      "text/plain": [
       "array([[[1],\n",
       "        [2],\n",
       "        [3],\n",
       "        [4],\n",
       "        [5],\n",
       "        [6]]])"
      ]
     },
     "execution_count": 48,
     "metadata": {},
     "output_type": "execute_result"
    }
   ],
   "source": [
    "y =np.array((1,2,3,4,5,6))\n",
    "y\n",
    "y[np.newaxis,:,np.newaxis]  # new axis creats an axis #vector to matrix"
   ]
  },
  {
   "cell_type": "code",
   "execution_count": 53,
   "id": "c417d6c0-47d6-4ea2-bad0-2257a3b0bb7e",
   "metadata": {},
   "outputs": [
    {
     "data": {
      "text/plain": [
       "array([[ 1.1063291 ,  0.77163815, -0.72333908],\n",
       "       [ 2.43384808, -1.77024319, -1.03262907],\n",
       "       [ 0.16972928,  0.08939392,  0.48804408]])"
      ]
     },
     "execution_count": 53,
     "metadata": {},
     "output_type": "execute_result"
    }
   ],
   "source": [
    "u = np.random.randn(3, 3)\n",
    "u"
   ]
  },
  {
   "cell_type": "code",
   "execution_count": 54,
   "id": "c335b05d-fb71-4563-a626-441b6ee28f51",
   "metadata": {},
   "outputs": [
    {
     "data": {
      "text/plain": [
       "array([ 1.1063291 ,  2.43384808,  0.16972928,  0.77163815, -1.77024319,\n",
       "        0.08939392, -0.72333908, -1.03262907,  0.48804408])"
      ]
     },
     "execution_count": 54,
     "metadata": {},
     "output_type": "execute_result"
    }
   ],
   "source": [
    "u.flatten('F')"
   ]
  },
  {
   "cell_type": "code",
   "execution_count": 55,
   "id": "2d42cd35-3aa3-4404-97eb-17ccf5a9aaf8",
   "metadata": {},
   "outputs": [
    {
     "data": {
      "text/plain": [
       "array([ 1.1063291 ,  0.77163815, -0.72333908,  2.43384808, -1.77024319,\n",
       "       -1.03262907,  0.16972928,  0.08939392,  0.48804408])"
      ]
     },
     "execution_count": 55,
     "metadata": {},
     "output_type": "execute_result"
    }
   ],
   "source": [
    "u.flatten('C')"
   ]
  },
  {
   "cell_type": "code",
   "execution_count": 61,
   "id": "77c61c2f-0643-4a9c-9f4b-0478d947d34b",
   "metadata": {},
   "outputs": [
    {
     "data": {
      "text/plain": [
       "array([[-0.5473925 ,  0.89116038,  1.52174108, -3.45912702],\n",
       "       [-0.25077475,  0.22245026, -0.44567248, -0.10242486],\n",
       "       [-0.30261052,  0.40580059,  0.30707786, -1.21943338]])"
      ]
     },
     "execution_count": 61,
     "metadata": {},
     "output_type": "execute_result"
    }
   ],
   "source": [
    "x = np.random.randn(3,2)\n",
    "y = np.random.randn(2,4)\n",
    "np.matmul(x,y)\n"
   ]
  },
  {
   "cell_type": "code",
   "execution_count": 66,
   "id": "34a3aadc-438d-4ec1-b50e-ceba8ae13f3c",
   "metadata": {},
   "outputs": [
    {
     "data": {
      "text/plain": [
       "array([[ 1.2518098 ,  1.94303788, -0.67130103, -0.64528825],\n",
       "       [ 0.33334234,  0.51740831, -0.17875963, -0.17183273],\n",
       "       [-0.28814786, -0.44725821,  0.15452344,  0.14853569]])"
      ]
     },
     "execution_count": 66,
     "metadata": {},
     "output_type": "execute_result"
    }
   ],
   "source": [
    "x = np.random.randn(3,)\n",
    "y = np.random.randn(1,4)\n",
    "np.matmul(x[:,np.newaxis],y)\n"
   ]
  },
  {
   "cell_type": "code",
   "execution_count": 69,
   "id": "4bec6f6a-d8ac-40dc-b8e1-d69382cc6da1",
   "metadata": {},
   "outputs": [
    {
     "data": {
      "text/plain": [
       "array([[[[11.23213141, 30.40657328, 18.47723181],\n",
       "         [20.47660403, 20.89518398, 23.03783432],\n",
       "         [12.40410009, 19.97331765, 16.70615587]],\n",
       "\n",
       "        [[11.55221387, 24.935611  , 18.23913508],\n",
       "         [21.21260213, 20.89922709, 18.32573864],\n",
       "         [29.87513677, 19.76367674, 12.21023841]]],\n",
       "\n",
       "\n",
       "       [[[17.9980932 , 22.4986881 , 22.66297555],\n",
       "         [14.56109532, 24.64741254, 11.18566536],\n",
       "         [25.72067601, 13.40326055, 18.8687739 ]],\n",
       "\n",
       "        [[25.32284339, 20.59802834, 24.08349259],\n",
       "         [23.0933098 , 26.43134307, 25.31104925],\n",
       "         [17.73127846, 23.16470817, 12.36724069]]],\n",
       "\n",
       "\n",
       "       [[[19.71047546, 24.09242367, 20.66923827],\n",
       "         [22.23319866, 18.93363812, 25.64534719],\n",
       "         [19.59792113, 17.67274909, 24.43258706]],\n",
       "\n",
       "        [[12.97420039, 22.50516672, 14.78757563],\n",
       "         [26.38963415, 18.69486373, 20.6749236 ],\n",
       "         [22.06285198, 10.35157702, 16.74707579]]],\n",
       "\n",
       "\n",
       "       [[[25.21772955, 24.33882512, 21.41516103],\n",
       "         [13.25268214, 22.9275173 , 23.56699795],\n",
       "         [20.23508607, 26.11585475, 16.58284105]],\n",
       "\n",
       "        [[17.45071211,  7.5769421 , 24.59913755],\n",
       "         [21.56930982, 11.59089837, 11.207005  ],\n",
       "         [15.63684686, 23.96828971, 18.49819756]]]])"
      ]
     },
     "execution_count": 69,
     "metadata": {},
     "output_type": "execute_result"
    }
   ],
   "source": [
    "Y = np.random.normal(20,5,(4,2,3,3))\n",
    "Y"
   ]
  },
  {
   "cell_type": "code",
   "execution_count": 76,
   "id": "3639d17b-5f2f-4f93-bc9e-ea6cb121e5dd",
   "metadata": {},
   "outputs": [
    {
     "data": {
      "text/plain": [
       "array([25.21772955, 13.25268214, 20.23508607])"
      ]
     },
     "execution_count": 76,
     "metadata": {},
     "output_type": "execute_result"
    }
   ],
   "source": [
    "Y[3,0,:,0]"
   ]
  },
  {
   "cell_type": "code",
   "execution_count": 75,
   "id": "0489bb55-1b55-4784-8f1d-1f8a6c4ca849",
   "metadata": {},
   "outputs": [
    {
     "data": {
      "text/plain": [
       "array([24.935611  , 20.89922709, 19.76367674])"
      ]
     },
     "execution_count": 75,
     "metadata": {},
     "output_type": "execute_result"
    }
   ],
   "source": [
    "Y[0,1,:,1]"
   ]
  },
  {
   "cell_type": "code",
   "execution_count": 88,
   "id": "83de706d-a770-4fa9-98c2-0c57d213ed5b",
   "metadata": {},
   "outputs": [
    {
     "data": {
      "text/plain": [
       "array([[[[24.96344269, 22.72908587, 15.80059552, 17.17357612],\n",
       "         [17.9464567 , 16.68643114,  9.85163066, 23.8179555 ],\n",
       "         [26.28529978, 12.40775528, 26.21926466, 19.48488399]],\n",
       "\n",
       "        [[26.12566174, 20.18975218, 20.67772296, 21.86217323],\n",
       "         [16.04966837, 25.97337072, 14.39309681, 17.98966628],\n",
       "         [22.62132339, 17.4540238 , 23.8876562 , 26.87933087]]],\n",
       "\n",
       "\n",
       "       [[[25.06273001, 10.31942343, 20.62923485, 25.14341305],\n",
       "         [13.41625577, 23.61805294, 23.33730391, 13.93955054],\n",
       "         [24.17116333, 21.36348897, 23.25190894, 15.16843807]],\n",
       "\n",
       "        [[20.75068058, 11.47560723,  8.61504396, 20.70414213],\n",
       "         [25.50298803, 21.26468407, 19.68276968, 19.0623294 ],\n",
       "         [15.28717304, 18.89069548, 22.10842234, 17.82388884]]]])"
      ]
     },
     "execution_count": 88,
     "metadata": {},
     "output_type": "execute_result"
    }
   ],
   "source": [
    "Y = np.random.normal(20,5,(2,2,3,4))\n",
    "Y"
   ]
  },
  {
   "cell_type": "code",
   "execution_count": 90,
   "id": "c3255827-f9ce-4cf1-ba73-ec23296f9700",
   "metadata": {},
   "outputs": [
    {
     "data": {
      "text/plain": [
       "array([ 8.61504396, 19.68276968, 22.10842234])"
      ]
     },
     "execution_count": 90,
     "metadata": {},
     "output_type": "execute_result"
    }
   ],
   "source": [
    "Y[1,1,:,2]"
   ]
  },
  {
   "cell_type": "code",
   "execution_count": null,
   "id": "deccf836-12c1-427c-8b53-7d16df54e22c",
   "metadata": {},
   "outputs": [],
   "source": []
  },
  {
   "cell_type": "code",
   "execution_count": null,
   "id": "6dc11d3a-6fd1-43ad-9a70-885ba6c973d4",
   "metadata": {},
   "outputs": [],
   "source": []
  }
 ],
 "metadata": {
  "kernelspec": {
   "display_name": "Python 3 (ipykernel)",
   "language": "python",
   "name": "python3"
  },
  "language_info": {
   "codemirror_mode": {
    "name": "ipython",
    "version": 3
   },
   "file_extension": ".py",
   "mimetype": "text/x-python",
   "name": "python",
   "nbconvert_exporter": "python",
   "pygments_lexer": "ipython3",
   "version": "3.9.9"
  }
 },
 "nbformat": 4,
 "nbformat_minor": 5
}
