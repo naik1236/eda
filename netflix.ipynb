{
 "cells": [
  {
   "cell_type": "code",
   "execution_count": null,
   "id": "1086a988-dc06-41b6-bd9c-da68dad96ad5",
   "metadata": {},
   "outputs": [],
   "source": [
    "import numpy as np\n",
    "import matplotlib.pyplot as plt\n",
    "import seaborn as sns\n",
    "import pandas as pd\n",
    "import warnings\n",
    "warnings.filterwarnings(action='ignore')"
   ]
  },
  {
   "cell_type": "code",
   "execution_count": null,
   "id": "74590bc2-e51d-45ea-b0d2-1d0d0477b2e7",
   "metadata": {},
   "outputs": [],
   "source": [
    "plt.style.use('seaborn')"
   ]
  },
  {
   "cell_type": "code",
   "execution_count": 3,
   "id": "e1b32e8f-cb7c-4f44-a1e5-8cffbc3552e5",
   "metadata": {},
   "outputs": [],
   "source": [
    "data = pd.read_csv(\"netflix_titles.csv\")"
   ]
  },
  {
   "cell_type": "code",
   "execution_count": 4,
   "id": "5c2822ec-f422-4be6-96b0-25d3f3c849bb",
   "metadata": {
    "tags": []
   },
   "outputs": [
    {
     "data": {
      "text/html": [
       "<div>\n",
       "<style scoped>\n",
       "    .dataframe tbody tr th:only-of-type {\n",
       "        vertical-align: middle;\n",
       "    }\n",
       "\n",
       "    .dataframe tbody tr th {\n",
       "        vertical-align: top;\n",
       "    }\n",
       "\n",
       "    .dataframe thead th {\n",
       "        text-align: right;\n",
       "    }\n",
       "</style>\n",
       "<table border=\"1\" class=\"dataframe\">\n",
       "  <thead>\n",
       "    <tr style=\"text-align: right;\">\n",
       "      <th></th>\n",
       "      <th>show_id</th>\n",
       "      <th>type</th>\n",
       "      <th>title</th>\n",
       "      <th>director</th>\n",
       "      <th>cast</th>\n",
       "      <th>country</th>\n",
       "      <th>date_added</th>\n",
       "      <th>release_year</th>\n",
       "      <th>rating</th>\n",
       "      <th>duration</th>\n",
       "      <th>listed_in</th>\n",
       "      <th>description</th>\n",
       "    </tr>\n",
       "  </thead>\n",
       "  <tbody>\n",
       "    <tr>\n",
       "      <th>0</th>\n",
       "      <td>s1</td>\n",
       "      <td>Movie</td>\n",
       "      <td>Dick Johnson Is Dead</td>\n",
       "      <td>Kirsten Johnson</td>\n",
       "      <td>NaN</td>\n",
       "      <td>United States</td>\n",
       "      <td>September 25, 2021</td>\n",
       "      <td>2020</td>\n",
       "      <td>PG-13</td>\n",
       "      <td>90 min</td>\n",
       "      <td>Documentaries</td>\n",
       "      <td>As her father nears the end of his life, filmm...</td>\n",
       "    </tr>\n",
       "    <tr>\n",
       "      <th>1</th>\n",
       "      <td>s2</td>\n",
       "      <td>TV Show</td>\n",
       "      <td>Blood &amp; Water</td>\n",
       "      <td>NaN</td>\n",
       "      <td>Ama Qamata, Khosi Ngema, Gail Mabalane, Thaban...</td>\n",
       "      <td>South Africa</td>\n",
       "      <td>September 24, 2021</td>\n",
       "      <td>2021</td>\n",
       "      <td>TV-MA</td>\n",
       "      <td>2 Seasons</td>\n",
       "      <td>International TV Shows, TV Dramas, TV Mysteries</td>\n",
       "      <td>After crossing paths at a party, a Cape Town t...</td>\n",
       "    </tr>\n",
       "    <tr>\n",
       "      <th>2</th>\n",
       "      <td>s3</td>\n",
       "      <td>TV Show</td>\n",
       "      <td>Ganglands</td>\n",
       "      <td>Julien Leclercq</td>\n",
       "      <td>Sami Bouajila, Tracy Gotoas, Samuel Jouy, Nabi...</td>\n",
       "      <td>NaN</td>\n",
       "      <td>September 24, 2021</td>\n",
       "      <td>2021</td>\n",
       "      <td>TV-MA</td>\n",
       "      <td>1 Season</td>\n",
       "      <td>Crime TV Shows, International TV Shows, TV Act...</td>\n",
       "      <td>To protect his family from a powerful drug lor...</td>\n",
       "    </tr>\n",
       "    <tr>\n",
       "      <th>3</th>\n",
       "      <td>s4</td>\n",
       "      <td>TV Show</td>\n",
       "      <td>Jailbirds New Orleans</td>\n",
       "      <td>NaN</td>\n",
       "      <td>NaN</td>\n",
       "      <td>NaN</td>\n",
       "      <td>September 24, 2021</td>\n",
       "      <td>2021</td>\n",
       "      <td>TV-MA</td>\n",
       "      <td>1 Season</td>\n",
       "      <td>Docuseries, Reality TV</td>\n",
       "      <td>Feuds, flirtations and toilet talk go down amo...</td>\n",
       "    </tr>\n",
       "    <tr>\n",
       "      <th>4</th>\n",
       "      <td>s5</td>\n",
       "      <td>TV Show</td>\n",
       "      <td>Kota Factory</td>\n",
       "      <td>NaN</td>\n",
       "      <td>Mayur More, Jitendra Kumar, Ranjan Raj, Alam K...</td>\n",
       "      <td>India</td>\n",
       "      <td>September 24, 2021</td>\n",
       "      <td>2021</td>\n",
       "      <td>TV-MA</td>\n",
       "      <td>2 Seasons</td>\n",
       "      <td>International TV Shows, Romantic TV Shows, TV ...</td>\n",
       "      <td>In a city of coaching centers known to train I...</td>\n",
       "    </tr>\n",
       "  </tbody>\n",
       "</table>\n",
       "</div>"
      ],
      "text/plain": [
       "  show_id     type                  title         director  \\\n",
       "0      s1    Movie   Dick Johnson Is Dead  Kirsten Johnson   \n",
       "1      s2  TV Show          Blood & Water              NaN   \n",
       "2      s3  TV Show              Ganglands  Julien Leclercq   \n",
       "3      s4  TV Show  Jailbirds New Orleans              NaN   \n",
       "4      s5  TV Show           Kota Factory              NaN   \n",
       "\n",
       "                                                cast        country  \\\n",
       "0                                                NaN  United States   \n",
       "1  Ama Qamata, Khosi Ngema, Gail Mabalane, Thaban...   South Africa   \n",
       "2  Sami Bouajila, Tracy Gotoas, Samuel Jouy, Nabi...            NaN   \n",
       "3                                                NaN            NaN   \n",
       "4  Mayur More, Jitendra Kumar, Ranjan Raj, Alam K...          India   \n",
       "\n",
       "           date_added  release_year rating   duration  \\\n",
       "0  September 25, 2021          2020  PG-13     90 min   \n",
       "1  September 24, 2021          2021  TV-MA  2 Seasons   \n",
       "2  September 24, 2021          2021  TV-MA   1 Season   \n",
       "3  September 24, 2021          2021  TV-MA   1 Season   \n",
       "4  September 24, 2021          2021  TV-MA  2 Seasons   \n",
       "\n",
       "                                           listed_in  \\\n",
       "0                                      Documentaries   \n",
       "1    International TV Shows, TV Dramas, TV Mysteries   \n",
       "2  Crime TV Shows, International TV Shows, TV Act...   \n",
       "3                             Docuseries, Reality TV   \n",
       "4  International TV Shows, Romantic TV Shows, TV ...   \n",
       "\n",
       "                                         description  \n",
       "0  As her father nears the end of his life, filmm...  \n",
       "1  After crossing paths at a party, a Cape Town t...  \n",
       "2  To protect his family from a powerful drug lor...  \n",
       "3  Feuds, flirtations and toilet talk go down amo...  \n",
       "4  In a city of coaching centers known to train I...  "
      ]
     },
     "execution_count": 4,
     "metadata": {},
     "output_type": "execute_result"
    }
   ],
   "source": [
    "data.head()"
   ]
  },
  {
   "cell_type": "code",
   "execution_count": 5,
   "id": "f817cb49-89a9-498c-8a33-ef5e61c7866c",
   "metadata": {},
   "outputs": [
    {
     "data": {
      "text/plain": [
       "Index(['show_id', 'type', 'title', 'director', 'cast', 'country', 'date_added',\n",
       "       'release_year', 'rating', 'duration', 'listed_in', 'description'],\n",
       "      dtype='object')"
      ]
     },
     "execution_count": 5,
     "metadata": {},
     "output_type": "execute_result"
    }
   ],
   "source": [
    "data.columns"
   ]
  },
  {
   "cell_type": "code",
   "execution_count": 6,
   "id": "c5c674e3-3c64-412b-8df4-92085d227dc8",
   "metadata": {},
   "outputs": [
    {
     "data": {
      "text/plain": [
       "(8807, 12)"
      ]
     },
     "execution_count": 6,
     "metadata": {},
     "output_type": "execute_result"
    }
   ],
   "source": [
    "data.shape"
   ]
  },
  {
   "cell_type": "code",
   "execution_count": 7,
   "id": "9f61017b-015a-4732-bfb1-368799cade1d",
   "metadata": {},
   "outputs": [
    {
     "name": "stdout",
     "output_type": "stream",
     "text": [
      "<class 'pandas.core.frame.DataFrame'>\n",
      "RangeIndex: 8807 entries, 0 to 8806\n",
      "Data columns (total 12 columns):\n",
      " #   Column        Non-Null Count  Dtype \n",
      "---  ------        --------------  ----- \n",
      " 0   show_id       8807 non-null   object\n",
      " 1   type          8807 non-null   object\n",
      " 2   title         8807 non-null   object\n",
      " 3   director      6173 non-null   object\n",
      " 4   cast          7982 non-null   object\n",
      " 5   country       7976 non-null   object\n",
      " 6   date_added    8797 non-null   object\n",
      " 7   release_year  8807 non-null   int64 \n",
      " 8   rating        8803 non-null   object\n",
      " 9   duration      8804 non-null   object\n",
      " 10  listed_in     8807 non-null   object\n",
      " 11  description   8807 non-null   object\n",
      "dtypes: int64(1), object(11)\n",
      "memory usage: 825.8+ KB\n"
     ]
    }
   ],
   "source": [
    "data.info()"
   ]
  },
  {
   "cell_type": "code",
   "execution_count": 8,
   "id": "aa0b8cfc-f146-4a0b-add9-3677ed1e1f56",
   "metadata": {},
   "outputs": [
    {
     "data": {
      "text/plain": [
       "show_id          0.000000\n",
       "type             0.000000\n",
       "title            0.000000\n",
       "director        29.908028\n",
       "cast             9.367549\n",
       "country          9.435676\n",
       "date_added       0.113546\n",
       "release_year     0.000000\n",
       "rating           0.045418\n",
       "duration         0.034064\n",
       "listed_in        0.000000\n",
       "description      0.000000\n",
       "dtype: float64"
      ]
     },
     "execution_count": 8,
     "metadata": {},
     "output_type": "execute_result"
    }
   ],
   "source": [
    "data.isnull().sum()/len(data)*100"
   ]
  },
  {
   "cell_type": "code",
   "execution_count": 9,
   "id": "378bf5ce-143f-4170-a43f-f87b78ace516",
   "metadata": {
    "tags": []
   },
   "outputs": [],
   "source": [
    "new_data = data.drop('director',axis=1)"
   ]
  },
  {
   "cell_type": "code",
   "execution_count": 10,
   "id": "761b3007-dc67-4d45-ac81-9349d31033ea",
   "metadata": {},
   "outputs": [
    {
     "data": {
      "text/plain": [
       "Index(['show_id', 'type', 'title', 'cast', 'country', 'date_added',\n",
       "       'release_year', 'rating', 'duration', 'listed_in', 'description'],\n",
       "      dtype='object')"
      ]
     },
     "execution_count": 10,
     "metadata": {},
     "output_type": "execute_result"
    }
   ],
   "source": [
    "new_data.columns"
   ]
  },
  {
   "cell_type": "code",
   "execution_count": 11,
   "id": "69617889-4741-40a6-9a24-4a18160705e0",
   "metadata": {},
   "outputs": [
    {
     "data": {
      "text/plain": [
       "0                                           Documentaries\n",
       "1         International TV Shows, TV Dramas, TV Mysteries\n",
       "2       Crime TV Shows, International TV Shows, TV Act...\n",
       "3                                  Docuseries, Reality TV\n",
       "4       International TV Shows, Romantic TV Shows, TV ...\n",
       "                              ...                        \n",
       "8802                       Cult Movies, Dramas, Thrillers\n",
       "8803               Kids' TV, Korean TV Shows, TV Comedies\n",
       "8804                              Comedies, Horror Movies\n",
       "8805                   Children & Family Movies, Comedies\n",
       "8806       Dramas, International Movies, Music & Musicals\n",
       "Name: listed_in, Length: 8807, dtype: object"
      ]
     },
     "execution_count": 11,
     "metadata": {},
     "output_type": "execute_result"
    }
   ],
   "source": [
    "new_data.listed_in"
   ]
  },
  {
   "cell_type": "code",
   "execution_count": 12,
   "id": "3766bcb3-bc17-4250-8607-29737b0b723c",
   "metadata": {},
   "outputs": [],
   "source": [
    "new_data.listed_in = new_data.listed_in.apply(lambda x: x.split(','))"
   ]
  },
  {
   "cell_type": "code",
   "execution_count": 13,
   "id": "606d19cd-1109-4823-b418-85e2e682218f",
   "metadata": {},
   "outputs": [
    {
     "data": {
      "text/plain": [
       "0                                         [Documentaries]\n",
       "1       [International TV Shows,  TV Dramas,  TV Myste...\n",
       "2       [Crime TV Shows,  International TV Shows,  TV ...\n",
       "3                               [Docuseries,  Reality TV]\n",
       "4       [International TV Shows,  Romantic TV Shows,  ...\n",
       "                              ...                        \n",
       "8802                   [Cult Movies,  Dramas,  Thrillers]\n",
       "8803           [Kids' TV,  Korean TV Shows,  TV Comedies]\n",
       "8804                           [Comedies,  Horror Movies]\n",
       "8805                [Children & Family Movies,  Comedies]\n",
       "8806    [Dramas,  International Movies,  Music & Music...\n",
       "Name: listed_in, Length: 8807, dtype: object"
      ]
     },
     "execution_count": 13,
     "metadata": {},
     "output_type": "execute_result"
    }
   ],
   "source": [
    "new_data.listed_in"
   ]
  },
  {
   "cell_type": "code",
   "execution_count": 14,
   "id": "d640c940-67ee-4973-a954-5abeaca5f5b5",
   "metadata": {},
   "outputs": [],
   "source": [
    "genre_list = []\n",
    "for i in new_data.listed_in.values:\n",
    "    for j in i:\n",
    "        if j not in genre_list:\n",
    "            genre_list.append(j)\n",
    "            \n",
    "genre_list = [i.strip() for i in genre_list]"
   ]
  },
  {
   "cell_type": "code",
   "execution_count": 15,
   "id": "033ae33f-e4b7-4654-833a-8be828527c8b",
   "metadata": {
    "tags": []
   },
   "outputs": [],
   "source": [
    "map_genre_dict = {i:np.zeros(len(new_data)) for i in genre_list}"
   ]
  },
  {
   "cell_type": "code",
   "execution_count": 16,
   "id": "f13e82a1-33a6-484b-887f-f54149526a8a",
   "metadata": {},
   "outputs": [],
   "source": [
    "df = pd.DataFrame(map_genre_dict)"
   ]
  },
  {
   "cell_type": "code",
   "execution_count": 17,
   "id": "920f902c-b536-44c5-b6d7-5072df16764e",
   "metadata": {},
   "outputs": [],
   "source": [
    "for idx, genre_list in enumerate(new_data.listed_in.values):\n",
    "    for genre in genre_list:\n",
    "        genre = genre.strip()\n",
    "        df[genre][idx] = 1"
   ]
  },
  {
   "cell_type": "code",
   "execution_count": 18,
   "id": "4457bf04-6adb-4318-b061-ab9d5db8f717",
   "metadata": {},
   "outputs": [
    {
     "data": {
      "text/html": [
       "<div>\n",
       "<style scoped>\n",
       "    .dataframe tbody tr th:only-of-type {\n",
       "        vertical-align: middle;\n",
       "    }\n",
       "\n",
       "    .dataframe tbody tr th {\n",
       "        vertical-align: top;\n",
       "    }\n",
       "\n",
       "    .dataframe thead th {\n",
       "        text-align: right;\n",
       "    }\n",
       "</style>\n",
       "<table border=\"1\" class=\"dataframe\">\n",
       "  <thead>\n",
       "    <tr style=\"text-align: right;\">\n",
       "      <th></th>\n",
       "      <th>Documentaries</th>\n",
       "      <th>International TV Shows</th>\n",
       "      <th>TV Dramas</th>\n",
       "      <th>TV Mysteries</th>\n",
       "      <th>Crime TV Shows</th>\n",
       "      <th>TV Action &amp; Adventure</th>\n",
       "      <th>Docuseries</th>\n",
       "      <th>Reality TV</th>\n",
       "      <th>Romantic TV Shows</th>\n",
       "      <th>TV Comedies</th>\n",
       "      <th>...</th>\n",
       "      <th>Science &amp; Nature TV</th>\n",
       "      <th>Teen TV Shows</th>\n",
       "      <th>Cult Movies</th>\n",
       "      <th>TV Shows</th>\n",
       "      <th>Faith &amp; Spirituality</th>\n",
       "      <th>LGBTQ Movies</th>\n",
       "      <th>Stand-Up Comedy</th>\n",
       "      <th>Movies</th>\n",
       "      <th>Stand-Up Comedy &amp; Talk Shows</th>\n",
       "      <th>Classic &amp; Cult TV</th>\n",
       "    </tr>\n",
       "  </thead>\n",
       "  <tbody>\n",
       "    <tr>\n",
       "      <th>0</th>\n",
       "      <td>1.0</td>\n",
       "      <td>0.0</td>\n",
       "      <td>0.0</td>\n",
       "      <td>0.0</td>\n",
       "      <td>0.0</td>\n",
       "      <td>0.0</td>\n",
       "      <td>0.0</td>\n",
       "      <td>0.0</td>\n",
       "      <td>0.0</td>\n",
       "      <td>0.0</td>\n",
       "      <td>...</td>\n",
       "      <td>0.0</td>\n",
       "      <td>0.0</td>\n",
       "      <td>0.0</td>\n",
       "      <td>0.0</td>\n",
       "      <td>0.0</td>\n",
       "      <td>0.0</td>\n",
       "      <td>0.0</td>\n",
       "      <td>0.0</td>\n",
       "      <td>0.0</td>\n",
       "      <td>0.0</td>\n",
       "    </tr>\n",
       "    <tr>\n",
       "      <th>1</th>\n",
       "      <td>0.0</td>\n",
       "      <td>1.0</td>\n",
       "      <td>1.0</td>\n",
       "      <td>1.0</td>\n",
       "      <td>0.0</td>\n",
       "      <td>0.0</td>\n",
       "      <td>0.0</td>\n",
       "      <td>0.0</td>\n",
       "      <td>0.0</td>\n",
       "      <td>0.0</td>\n",
       "      <td>...</td>\n",
       "      <td>0.0</td>\n",
       "      <td>0.0</td>\n",
       "      <td>0.0</td>\n",
       "      <td>0.0</td>\n",
       "      <td>0.0</td>\n",
       "      <td>0.0</td>\n",
       "      <td>0.0</td>\n",
       "      <td>0.0</td>\n",
       "      <td>0.0</td>\n",
       "      <td>0.0</td>\n",
       "    </tr>\n",
       "    <tr>\n",
       "      <th>2</th>\n",
       "      <td>0.0</td>\n",
       "      <td>1.0</td>\n",
       "      <td>0.0</td>\n",
       "      <td>0.0</td>\n",
       "      <td>1.0</td>\n",
       "      <td>1.0</td>\n",
       "      <td>0.0</td>\n",
       "      <td>0.0</td>\n",
       "      <td>0.0</td>\n",
       "      <td>0.0</td>\n",
       "      <td>...</td>\n",
       "      <td>0.0</td>\n",
       "      <td>0.0</td>\n",
       "      <td>0.0</td>\n",
       "      <td>0.0</td>\n",
       "      <td>0.0</td>\n",
       "      <td>0.0</td>\n",
       "      <td>0.0</td>\n",
       "      <td>0.0</td>\n",
       "      <td>0.0</td>\n",
       "      <td>0.0</td>\n",
       "    </tr>\n",
       "    <tr>\n",
       "      <th>3</th>\n",
       "      <td>0.0</td>\n",
       "      <td>0.0</td>\n",
       "      <td>0.0</td>\n",
       "      <td>0.0</td>\n",
       "      <td>0.0</td>\n",
       "      <td>0.0</td>\n",
       "      <td>1.0</td>\n",
       "      <td>1.0</td>\n",
       "      <td>0.0</td>\n",
       "      <td>0.0</td>\n",
       "      <td>...</td>\n",
       "      <td>0.0</td>\n",
       "      <td>0.0</td>\n",
       "      <td>0.0</td>\n",
       "      <td>0.0</td>\n",
       "      <td>0.0</td>\n",
       "      <td>0.0</td>\n",
       "      <td>0.0</td>\n",
       "      <td>0.0</td>\n",
       "      <td>0.0</td>\n",
       "      <td>0.0</td>\n",
       "    </tr>\n",
       "    <tr>\n",
       "      <th>4</th>\n",
       "      <td>0.0</td>\n",
       "      <td>1.0</td>\n",
       "      <td>0.0</td>\n",
       "      <td>0.0</td>\n",
       "      <td>0.0</td>\n",
       "      <td>0.0</td>\n",
       "      <td>0.0</td>\n",
       "      <td>0.0</td>\n",
       "      <td>1.0</td>\n",
       "      <td>1.0</td>\n",
       "      <td>...</td>\n",
       "      <td>0.0</td>\n",
       "      <td>0.0</td>\n",
       "      <td>0.0</td>\n",
       "      <td>0.0</td>\n",
       "      <td>0.0</td>\n",
       "      <td>0.0</td>\n",
       "      <td>0.0</td>\n",
       "      <td>0.0</td>\n",
       "      <td>0.0</td>\n",
       "      <td>0.0</td>\n",
       "    </tr>\n",
       "    <tr>\n",
       "      <th>...</th>\n",
       "      <td>...</td>\n",
       "      <td>...</td>\n",
       "      <td>...</td>\n",
       "      <td>...</td>\n",
       "      <td>...</td>\n",
       "      <td>...</td>\n",
       "      <td>...</td>\n",
       "      <td>...</td>\n",
       "      <td>...</td>\n",
       "      <td>...</td>\n",
       "      <td>...</td>\n",
       "      <td>...</td>\n",
       "      <td>...</td>\n",
       "      <td>...</td>\n",
       "      <td>...</td>\n",
       "      <td>...</td>\n",
       "      <td>...</td>\n",
       "      <td>...</td>\n",
       "      <td>...</td>\n",
       "      <td>...</td>\n",
       "      <td>...</td>\n",
       "    </tr>\n",
       "    <tr>\n",
       "      <th>8802</th>\n",
       "      <td>0.0</td>\n",
       "      <td>0.0</td>\n",
       "      <td>0.0</td>\n",
       "      <td>0.0</td>\n",
       "      <td>0.0</td>\n",
       "      <td>0.0</td>\n",
       "      <td>0.0</td>\n",
       "      <td>0.0</td>\n",
       "      <td>0.0</td>\n",
       "      <td>0.0</td>\n",
       "      <td>...</td>\n",
       "      <td>0.0</td>\n",
       "      <td>0.0</td>\n",
       "      <td>1.0</td>\n",
       "      <td>0.0</td>\n",
       "      <td>0.0</td>\n",
       "      <td>0.0</td>\n",
       "      <td>0.0</td>\n",
       "      <td>0.0</td>\n",
       "      <td>0.0</td>\n",
       "      <td>0.0</td>\n",
       "    </tr>\n",
       "    <tr>\n",
       "      <th>8803</th>\n",
       "      <td>0.0</td>\n",
       "      <td>0.0</td>\n",
       "      <td>0.0</td>\n",
       "      <td>0.0</td>\n",
       "      <td>0.0</td>\n",
       "      <td>0.0</td>\n",
       "      <td>0.0</td>\n",
       "      <td>0.0</td>\n",
       "      <td>0.0</td>\n",
       "      <td>1.0</td>\n",
       "      <td>...</td>\n",
       "      <td>0.0</td>\n",
       "      <td>0.0</td>\n",
       "      <td>0.0</td>\n",
       "      <td>0.0</td>\n",
       "      <td>0.0</td>\n",
       "      <td>0.0</td>\n",
       "      <td>0.0</td>\n",
       "      <td>0.0</td>\n",
       "      <td>0.0</td>\n",
       "      <td>0.0</td>\n",
       "    </tr>\n",
       "    <tr>\n",
       "      <th>8804</th>\n",
       "      <td>0.0</td>\n",
       "      <td>0.0</td>\n",
       "      <td>0.0</td>\n",
       "      <td>0.0</td>\n",
       "      <td>0.0</td>\n",
       "      <td>0.0</td>\n",
       "      <td>0.0</td>\n",
       "      <td>0.0</td>\n",
       "      <td>0.0</td>\n",
       "      <td>0.0</td>\n",
       "      <td>...</td>\n",
       "      <td>0.0</td>\n",
       "      <td>0.0</td>\n",
       "      <td>0.0</td>\n",
       "      <td>0.0</td>\n",
       "      <td>0.0</td>\n",
       "      <td>0.0</td>\n",
       "      <td>0.0</td>\n",
       "      <td>0.0</td>\n",
       "      <td>0.0</td>\n",
       "      <td>0.0</td>\n",
       "    </tr>\n",
       "    <tr>\n",
       "      <th>8805</th>\n",
       "      <td>0.0</td>\n",
       "      <td>0.0</td>\n",
       "      <td>0.0</td>\n",
       "      <td>0.0</td>\n",
       "      <td>0.0</td>\n",
       "      <td>0.0</td>\n",
       "      <td>0.0</td>\n",
       "      <td>0.0</td>\n",
       "      <td>0.0</td>\n",
       "      <td>0.0</td>\n",
       "      <td>...</td>\n",
       "      <td>0.0</td>\n",
       "      <td>0.0</td>\n",
       "      <td>0.0</td>\n",
       "      <td>0.0</td>\n",
       "      <td>0.0</td>\n",
       "      <td>0.0</td>\n",
       "      <td>0.0</td>\n",
       "      <td>0.0</td>\n",
       "      <td>0.0</td>\n",
       "      <td>0.0</td>\n",
       "    </tr>\n",
       "    <tr>\n",
       "      <th>8806</th>\n",
       "      <td>0.0</td>\n",
       "      <td>0.0</td>\n",
       "      <td>0.0</td>\n",
       "      <td>0.0</td>\n",
       "      <td>0.0</td>\n",
       "      <td>0.0</td>\n",
       "      <td>0.0</td>\n",
       "      <td>0.0</td>\n",
       "      <td>0.0</td>\n",
       "      <td>0.0</td>\n",
       "      <td>...</td>\n",
       "      <td>0.0</td>\n",
       "      <td>0.0</td>\n",
       "      <td>0.0</td>\n",
       "      <td>0.0</td>\n",
       "      <td>0.0</td>\n",
       "      <td>0.0</td>\n",
       "      <td>0.0</td>\n",
       "      <td>0.0</td>\n",
       "      <td>0.0</td>\n",
       "      <td>0.0</td>\n",
       "    </tr>\n",
       "  </tbody>\n",
       "</table>\n",
       "<p>8807 rows × 42 columns</p>\n",
       "</div>"
      ],
      "text/plain": [
       "      Documentaries  International TV Shows  TV Dramas  TV Mysteries  \\\n",
       "0               1.0                     0.0        0.0           0.0   \n",
       "1               0.0                     1.0        1.0           1.0   \n",
       "2               0.0                     1.0        0.0           0.0   \n",
       "3               0.0                     0.0        0.0           0.0   \n",
       "4               0.0                     1.0        0.0           0.0   \n",
       "...             ...                     ...        ...           ...   \n",
       "8802            0.0                     0.0        0.0           0.0   \n",
       "8803            0.0                     0.0        0.0           0.0   \n",
       "8804            0.0                     0.0        0.0           0.0   \n",
       "8805            0.0                     0.0        0.0           0.0   \n",
       "8806            0.0                     0.0        0.0           0.0   \n",
       "\n",
       "      Crime TV Shows  TV Action & Adventure  Docuseries  Reality TV  \\\n",
       "0                0.0                    0.0         0.0         0.0   \n",
       "1                0.0                    0.0         0.0         0.0   \n",
       "2                1.0                    1.0         0.0         0.0   \n",
       "3                0.0                    0.0         1.0         1.0   \n",
       "4                0.0                    0.0         0.0         0.0   \n",
       "...              ...                    ...         ...         ...   \n",
       "8802             0.0                    0.0         0.0         0.0   \n",
       "8803             0.0                    0.0         0.0         0.0   \n",
       "8804             0.0                    0.0         0.0         0.0   \n",
       "8805             0.0                    0.0         0.0         0.0   \n",
       "8806             0.0                    0.0         0.0         0.0   \n",
       "\n",
       "      Romantic TV Shows  TV Comedies  ...  Science & Nature TV  Teen TV Shows  \\\n",
       "0                   0.0          0.0  ...                  0.0            0.0   \n",
       "1                   0.0          0.0  ...                  0.0            0.0   \n",
       "2                   0.0          0.0  ...                  0.0            0.0   \n",
       "3                   0.0          0.0  ...                  0.0            0.0   \n",
       "4                   1.0          1.0  ...                  0.0            0.0   \n",
       "...                 ...          ...  ...                  ...            ...   \n",
       "8802                0.0          0.0  ...                  0.0            0.0   \n",
       "8803                0.0          1.0  ...                  0.0            0.0   \n",
       "8804                0.0          0.0  ...                  0.0            0.0   \n",
       "8805                0.0          0.0  ...                  0.0            0.0   \n",
       "8806                0.0          0.0  ...                  0.0            0.0   \n",
       "\n",
       "      Cult Movies  TV Shows  Faith & Spirituality  LGBTQ Movies  \\\n",
       "0             0.0       0.0                   0.0           0.0   \n",
       "1             0.0       0.0                   0.0           0.0   \n",
       "2             0.0       0.0                   0.0           0.0   \n",
       "3             0.0       0.0                   0.0           0.0   \n",
       "4             0.0       0.0                   0.0           0.0   \n",
       "...           ...       ...                   ...           ...   \n",
       "8802          1.0       0.0                   0.0           0.0   \n",
       "8803          0.0       0.0                   0.0           0.0   \n",
       "8804          0.0       0.0                   0.0           0.0   \n",
       "8805          0.0       0.0                   0.0           0.0   \n",
       "8806          0.0       0.0                   0.0           0.0   \n",
       "\n",
       "      Stand-Up Comedy  Movies  Stand-Up Comedy & Talk Shows  Classic & Cult TV  \n",
       "0                 0.0     0.0                           0.0                0.0  \n",
       "1                 0.0     0.0                           0.0                0.0  \n",
       "2                 0.0     0.0                           0.0                0.0  \n",
       "3                 0.0     0.0                           0.0                0.0  \n",
       "4                 0.0     0.0                           0.0                0.0  \n",
       "...               ...     ...                           ...                ...  \n",
       "8802              0.0     0.0                           0.0                0.0  \n",
       "8803              0.0     0.0                           0.0                0.0  \n",
       "8804              0.0     0.0                           0.0                0.0  \n",
       "8805              0.0     0.0                           0.0                0.0  \n",
       "8806              0.0     0.0                           0.0                0.0  \n",
       "\n",
       "[8807 rows x 42 columns]"
      ]
     },
     "execution_count": 18,
     "metadata": {},
     "output_type": "execute_result"
    }
   ],
   "source": [
    "df"
   ]
  },
  {
   "cell_type": "code",
   "execution_count": 19,
   "id": "fe74fc51-46f0-4d86-851a-bc7ec00c1298",
   "metadata": {
    "tags": []
   },
   "outputs": [
    {
     "data": {
      "text/plain": [
       "Documentaries                   0.0\n",
       "International TV Shows          0.0\n",
       "TV Dramas                       0.0\n",
       "TV Mysteries                    0.0\n",
       "Crime TV Shows                  0.0\n",
       "TV Action & Adventure           0.0\n",
       "Docuseries                      0.0\n",
       "Reality TV                      0.0\n",
       "Romantic TV Shows               0.0\n",
       "TV Comedies                     0.0\n",
       "TV Horror                       0.0\n",
       "Children & Family Movies        0.0\n",
       "Dramas                          1.0\n",
       "Independent Movies              0.0\n",
       "International Movies            1.0\n",
       "British TV Shows                0.0\n",
       "Comedies                        0.0\n",
       "Spanish-Language TV Shows       0.0\n",
       "Thrillers                       0.0\n",
       "Romantic Movies                 0.0\n",
       "Music & Musicals                1.0\n",
       "Horror Movies                   0.0\n",
       "Sci-Fi & Fantasy                0.0\n",
       "TV Thrillers                    0.0\n",
       "Kids' TV                        0.0\n",
       "Action & Adventure              0.0\n",
       "TV Sci-Fi & Fantasy             0.0\n",
       "Classic Movies                  0.0\n",
       "Anime Features                  0.0\n",
       "Sports Movies                   0.0\n",
       "Anime Series                    0.0\n",
       "Korean TV Shows                 0.0\n",
       "Science & Nature TV             0.0\n",
       "Teen TV Shows                   0.0\n",
       "Cult Movies                     0.0\n",
       "TV Shows                        0.0\n",
       "Faith & Spirituality            0.0\n",
       "LGBTQ Movies                    0.0\n",
       "Stand-Up Comedy                 0.0\n",
       "Movies                          0.0\n",
       "Stand-Up Comedy & Talk Shows    0.0\n",
       "Classic & Cult TV               0.0\n",
       "Name: 8806, dtype: float64"
      ]
     },
     "execution_count": 19,
     "metadata": {},
     "output_type": "execute_result"
    }
   ],
   "source": [
    "df.iloc[-1, :]"
   ]
  },
  {
   "cell_type": "code",
   "execution_count": 22,
   "id": "1c0e6cd1-5ca0-48ab-b914-f741ceb62900",
   "metadata": {},
   "outputs": [
    {
     "data": {
      "text/plain": [
       "Index(['show_id', 'type', 'title', 'cast', 'country', 'date_added',\n",
       "       'release_year', 'rating', 'duration', 'listed_in', 'description'],\n",
       "      dtype='object')"
      ]
     },
     "execution_count": 22,
     "metadata": {},
     "output_type": "execute_result"
    }
   ],
   "source": [
    "new_data.columns"
   ]
  },
  {
   "cell_type": "code",
   "execution_count": 23,
   "id": "83eaa054-a9d9-4336-8ca4-4d09cf3c904b",
   "metadata": {},
   "outputs": [],
   "source": [
    "new_data.drop('listed_in',axis=1,inplace=True)"
   ]
  },
  {
   "cell_type": "code",
   "execution_count": 27,
   "id": "29295400-a76c-4e12-bf54-4950bcd9d7b8",
   "metadata": {},
   "outputs": [],
   "source": [
    "# concatenation\n",
    "\n",
    "new_data = pd.concat( [new_data, df], axis = 1 )"
   ]
  },
  {
   "cell_type": "code",
   "execution_count": null,
   "id": "799c3757-2a72-44b9-a0ec-876678c3aec0",
   "metadata": {
    "collapsed": true,
    "jupyter": {
     "outputs_hidden": true
    },
    "tags": []
   },
   "outputs": [],
   "source": [
    "new_data.isnull().sum()"
   ]
  },
  {
   "cell_type": "markdown",
   "id": "15d0a767-2df0-49a9-9aa0-a61124e36fe5",
   "metadata": {},
   "source": [
    "# Problem Statement 1\n",
    "> Which genre is the most popular?"
   ]
  },
  {
   "cell_type": "code",
   "execution_count": 48,
   "id": "2384efa2-cd82-4881-807f-f807f480f484",
   "metadata": {
    "tags": []
   },
   "outputs": [
    {
     "data": {
      "text/plain": [
       "Documentaries                    869.0\n",
       "International TV Shows          1351.0\n",
       "TV Dramas                        763.0\n",
       "TV Mysteries                      98.0\n",
       "Crime TV Shows                   470.0\n",
       "TV Action & Adventure            168.0\n",
       "Docuseries                       395.0\n",
       "Reality TV                       255.0\n",
       "Romantic TV Shows                370.0\n",
       "TV Comedies                      581.0\n",
       "TV Horror                         75.0\n",
       "Children & Family Movies         641.0\n",
       "Dramas                          2427.0\n",
       "Independent Movies               756.0\n",
       "International Movies            2752.0\n",
       "British TV Shows                 253.0\n",
       "Comedies                        1674.0\n",
       "Spanish-Language TV Shows        174.0\n",
       "Thrillers                        577.0\n",
       "Romantic Movies                  616.0\n",
       "Music & Musicals                 375.0\n",
       "Horror Movies                    357.0\n",
       "Sci-Fi & Fantasy                 243.0\n",
       "TV Thrillers                      57.0\n",
       "Kids' TV                         451.0\n",
       "Action & Adventure               859.0\n",
       "TV Sci-Fi & Fantasy               84.0\n",
       "Classic Movies                   116.0\n",
       "Anime Features                    71.0\n",
       "Sports Movies                    219.0\n",
       "Anime Series                     176.0\n",
       "Korean TV Shows                  151.0\n",
       "Science & Nature TV               92.0\n",
       "Teen TV Shows                     69.0\n",
       "Cult Movies                       71.0\n",
       "TV Shows                          16.0\n",
       "Faith & Spirituality              65.0\n",
       "LGBTQ Movies                     102.0\n",
       "Stand-Up Comedy                  343.0\n",
       "Movies                            57.0\n",
       "Stand-Up Comedy & Talk Shows      56.0\n",
       "Classic & Cult TV                 28.0\n",
       "dtype: float64"
      ]
     },
     "execution_count": 48,
     "metadata": {},
     "output_type": "execute_result"
    }
   ],
   "source": [
    "df.sum(axis=0)"
   ]
  },
  {
   "cell_type": "code",
   "execution_count": 56,
   "id": "409a832e-c6b9-40c5-a845-ed8801f8bb59",
   "metadata": {},
   "outputs": [],
   "source": []
  },
  {
   "cell_type": "code",
   "execution_count": null,
   "id": "4f526922-be85-4104-9a8e-d244f9ba2f3b",
   "metadata": {},
   "outputs": [],
   "source": []
  },
  {
   "cell_type": "code",
   "execution_count": null,
   "id": "3989a8c2-9467-4fc6-8121-3dc3faed6add",
   "metadata": {},
   "outputs": [],
   "source": []
  }
 ],
 "metadata": {
  "kernelspec": {
   "display_name": "Python 3 (ipykernel)",
   "language": "python",
   "name": "python3"
  },
  "language_info": {
   "codemirror_mode": {
    "name": "ipython",
    "version": 3
   },
   "file_extension": ".py",
   "mimetype": "text/x-python",
   "name": "python",
   "nbconvert_exporter": "python",
   "pygments_lexer": "ipython3",
   "version": "3.9.9"
  }
 },
 "nbformat": 4,
 "nbformat_minor": 5
}
